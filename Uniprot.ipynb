{
 "cells": [
  {
   "cell_type": "code",
   "execution_count": 17,
   "id": "b813b636-77e8-43e1-a5bf-11c583559c8d",
   "metadata": {},
   "outputs": [
    {
     "name": "stdout",
     "output_type": "stream",
     "text": [
      "ID: Q5FL64\n",
      "Nome: Q5FL64_LACAC\n",
      "Descrição: RecName: Full=Alpha-1,4 glucan phosphorylase {ECO:0000256|RuleBase:RU000587}; EC=2.4.1.1 {ECO:0000256|RuleBase:RU000587};\n",
      "Organismo: Lactobacillus acidophilus (strain ATCC 700396 / NCK56 / N2 / NCFM)\n",
      "Função: None\n",
      "Domínios: ['Carbohydrate metabolism {ECO:0000256|ARBA:ARBA00023277,', 'ECO:0000256|RuleBase:RU000587}', 'Glycosyltransferase {ECO:0000256|ARBA:ARBA00022676,', 'ECO:0000256|RuleBase:RU000587}', 'Pyridoxal phosphate {ECO:0000256|ARBA:ARBA00022898,', 'ECO:0000256|PIRSR:PIRSR000460-1}', 'Reference proteome', 'Transferase']\n"
     ]
    }
   ],
   "source": [
    "from Bio import SeqIO\n",
    "\n",
    "def analyze_uniprot(file_path):\n",
    "\n",
    "    with open(file_path, \"r\") as handle:\n",
    "        for record in SeqIO.parse(handle, \"swiss\"):\n",
    "            print(f\"ID: {record.id}\")\n",
    "            print(f\"Nome: {record.name}\")\n",
    "            print(f\"Descrição: {record.description}\")\n",
    "            print(f\"Organismo: {record.annotations.get('organism')}\")\n",
    "            print(f\"Função: {record.annotations.get('comment_function')}\")\n",
    "            print(f\"Domínios: {record.annotations.get('keywords')}\")\n",
    "            \n",
    "analyze_uniprot(\"uniprotkb_WP_003546577_1_2025_01_02.txt\")"
   ]
  }
 ],
 "metadata": {
  "kernelspec": {
   "display_name": "Python 3 (ipykernel)",
   "language": "python",
   "name": "python3"
  },
  "language_info": {
   "codemirror_mode": {
    "name": "ipython",
    "version": 3
   },
   "file_extension": ".py",
   "mimetype": "text/x-python",
   "name": "python",
   "nbconvert_exporter": "python",
   "pygments_lexer": "ipython3",
   "version": "3.12.4"
  }
 },
 "nbformat": 4,
 "nbformat_minor": 5
}
