{
 "cells": [
  {
   "cell_type": "code",
   "execution_count": 34,
   "id": "7847dc89-9e38-4427-aa8b-7ab657a3c5b8",
   "metadata": {},
   "outputs": [
    {
     "name": "stdout",
     "output_type": "stream",
     "text": [
      "Anotações e Características:\n",
      "ID: NZ_CP139575.1\n",
      "Descrição: Lactobacillus acidophilus strain ATCC 4356 chromosome, complete genome\n"
     ]
    },
    {
     "ename": "UndefinedSequenceError",
     "evalue": "Sequence content is undefined",
     "output_type": "error",
     "traceback": [
      "\u001b[1;31m---------------------------------------------------------------------------\u001b[0m",
      "\u001b[1;31mUndefinedSequenceError\u001b[0m                    Traceback (most recent call last)",
      "Cell \u001b[1;32mIn[34], line 58\u001b[0m\n\u001b[0;32m     55\u001b[0m             \u001b[38;5;28mprint\u001b[39m(\u001b[38;5;124m\"\u001b[39m\u001b[38;5;124m-\u001b[39m\u001b[38;5;124m\"\u001b[39m \u001b[38;5;241m*\u001b[39m \u001b[38;5;241m80\u001b[39m)\n\u001b[0;32m     57\u001b[0m \u001b[38;5;28;01mif\u001b[39;00m \u001b[38;5;18m__name__\u001b[39m \u001b[38;5;241m==\u001b[39m \u001b[38;5;124m\"\u001b[39m\u001b[38;5;124m__main__\u001b[39m\u001b[38;5;124m\"\u001b[39m:\n\u001b[1;32m---> 58\u001b[0m     main()\n",
      "Cell \u001b[1;32mIn[34], line 46\u001b[0m, in \u001b[0;36mmain\u001b[1;34m()\u001b[0m\n\u001b[0;32m     43\u001b[0m \u001b[38;5;28mprint\u001b[39m(\u001b[38;5;124mf\u001b[39m\u001b[38;5;124m\"\u001b[39m\u001b[38;5;124mID: \u001b[39m\u001b[38;5;132;01m{\u001b[39;00mrecord\u001b[38;5;241m.\u001b[39mid\u001b[38;5;132;01m}\u001b[39;00m\u001b[38;5;124m\"\u001b[39m)\n\u001b[0;32m     44\u001b[0m \u001b[38;5;28mprint\u001b[39m(\u001b[38;5;124mf\u001b[39m\u001b[38;5;124m\"\u001b[39m\u001b[38;5;124mDescrição: \u001b[39m\u001b[38;5;132;01m{\u001b[39;00mrecord\u001b[38;5;241m.\u001b[39mdescription\u001b[38;5;132;01m}\u001b[39;00m\u001b[38;5;124m\"\u001b[39m)\n\u001b[1;32m---> 46\u001b[0m blast_record \u001b[38;5;241m=\u001b[39m run_blast(record)\n\u001b[0;32m     47\u001b[0m significant_hits \u001b[38;5;241m=\u001b[39m analyze_blast_results(blast_record)\n\u001b[0;32m     49\u001b[0m \u001b[38;5;28mprint\u001b[39m(\u001b[38;5;124m\"\u001b[39m\u001b[38;5;130;01m\\n\u001b[39;00m\u001b[38;5;124mResultados Significativos do BLAST:\u001b[39m\u001b[38;5;124m\"\u001b[39m)\n",
      "Cell \u001b[1;32mIn[34], line 16\u001b[0m, in \u001b[0;36mrun_blast\u001b[1;34m(sequence, program, database, evalue)\u001b[0m\n\u001b[0;32m     15\u001b[0m \u001b[38;5;28;01mdef\u001b[39;00m \u001b[38;5;21mrun_blast\u001b[39m(sequence, program\u001b[38;5;241m=\u001b[39m\u001b[38;5;124m\"\u001b[39m\u001b[38;5;124mblastn\u001b[39m\u001b[38;5;124m\"\u001b[39m, database\u001b[38;5;241m=\u001b[39m\u001b[38;5;124m\"\u001b[39m\u001b[38;5;124mnr\u001b[39m\u001b[38;5;124m\"\u001b[39m, evalue\u001b[38;5;241m=\u001b[39m\u001b[38;5;241m0.001\u001b[39m):\n\u001b[1;32m---> 16\u001b[0m     result_handle \u001b[38;5;241m=\u001b[39m NCBIWWW\u001b[38;5;241m.\u001b[39mqblast(program, database, sequence\u001b[38;5;241m.\u001b[39mformat(\u001b[38;5;124m\"\u001b[39m\u001b[38;5;124mfasta\u001b[39m\u001b[38;5;124m\"\u001b[39m), expect\u001b[38;5;241m=\u001b[39mevalue)\n\u001b[0;32m     17\u001b[0m     blast_record \u001b[38;5;241m=\u001b[39m NCBIXML\u001b[38;5;241m.\u001b[39mread(result_handle)\n\u001b[0;32m     18\u001b[0m     result_handle\u001b[38;5;241m.\u001b[39mclose()\n",
      "File \u001b[1;32mD:\\Anaconda\\Lib\\site-packages\\Bio\\SeqRecord.py:779\u001b[0m, in \u001b[0;36mSeqRecord.format\u001b[1;34m(self, format)\u001b[0m\n\u001b[0;32m    750\u001b[0m \u001b[38;5;250m\u001b[39m\u001b[38;5;124mr\u001b[39m\u001b[38;5;124;03m\"\"\"Return the record as a string in the specified file format.\u001b[39;00m\n\u001b[0;32m    751\u001b[0m \n\u001b[0;32m    752\u001b[0m \u001b[38;5;124;03mThe format should be a lower case string supported as an output\u001b[39;00m\n\u001b[1;32m   (...)\u001b[0m\n\u001b[0;32m    776\u001b[0m \u001b[38;5;124;03mand binary formats are not supported).\u001b[39;00m\n\u001b[0;32m    777\u001b[0m \u001b[38;5;124;03m\"\"\"\u001b[39;00m\n\u001b[0;32m    778\u001b[0m \u001b[38;5;66;03m# See also the __format__ method\u001b[39;00m\n\u001b[1;32m--> 779\u001b[0m \u001b[38;5;28;01mreturn\u001b[39;00m \u001b[38;5;28mself\u001b[39m\u001b[38;5;241m.\u001b[39m\u001b[38;5;21m__format__\u001b[39m(\u001b[38;5;28mformat\u001b[39m)\n",
      "File \u001b[1;32mD:\\Anaconda\\Lib\\site-packages\\Bio\\SeqRecord.py:812\u001b[0m, in \u001b[0;36mSeqRecord.__format__\u001b[1;34m(self, format_spec)\u001b[0m\n\u001b[0;32m    810\u001b[0m \u001b[38;5;66;03m# Easy case, can call string-building function directly\u001b[39;00m\n\u001b[0;32m    811\u001b[0m \u001b[38;5;28;01mif\u001b[39;00m format_spec \u001b[38;5;129;01min\u001b[39;00m SeqIO\u001b[38;5;241m.\u001b[39m_FormatToString:\n\u001b[1;32m--> 812\u001b[0m     \u001b[38;5;28;01mreturn\u001b[39;00m SeqIO\u001b[38;5;241m.\u001b[39m_FormatToString[format_spec](\u001b[38;5;28mself\u001b[39m)\n\u001b[0;32m    814\u001b[0m \u001b[38;5;66;03m# Harder case, make a temp handle instead\u001b[39;00m\n\u001b[0;32m    815\u001b[0m handle \u001b[38;5;241m=\u001b[39m StringIO()\n",
      "File \u001b[1;32mD:\\Anaconda\\Lib\\site-packages\\Bio\\SeqIO\\FastaIO.py:387\u001b[0m, in \u001b[0;36mas_fasta\u001b[1;34m(record)\u001b[0m\n\u001b[0;32m    384\u001b[0m \u001b[38;5;28;01massert\u001b[39;00m \u001b[38;5;124m\"\u001b[39m\u001b[38;5;130;01m\\r\u001b[39;00m\u001b[38;5;124m\"\u001b[39m \u001b[38;5;129;01mnot\u001b[39;00m \u001b[38;5;129;01min\u001b[39;00m title\n\u001b[0;32m    385\u001b[0m lines \u001b[38;5;241m=\u001b[39m [\u001b[38;5;124mf\u001b[39m\u001b[38;5;124m\"\u001b[39m\u001b[38;5;124m>\u001b[39m\u001b[38;5;132;01m{\u001b[39;00mtitle\u001b[38;5;132;01m}\u001b[39;00m\u001b[38;5;130;01m\\n\u001b[39;00m\u001b[38;5;124m\"\u001b[39m]\n\u001b[1;32m--> 387\u001b[0m data \u001b[38;5;241m=\u001b[39m _get_seq_string(record)  \u001b[38;5;66;03m# Catches sequence being None\u001b[39;00m\n\u001b[0;32m    388\u001b[0m \u001b[38;5;28;01massert\u001b[39;00m \u001b[38;5;124m\"\u001b[39m\u001b[38;5;130;01m\\n\u001b[39;00m\u001b[38;5;124m\"\u001b[39m \u001b[38;5;129;01mnot\u001b[39;00m \u001b[38;5;129;01min\u001b[39;00m data\n\u001b[0;32m    389\u001b[0m \u001b[38;5;28;01massert\u001b[39;00m \u001b[38;5;124m\"\u001b[39m\u001b[38;5;130;01m\\r\u001b[39;00m\u001b[38;5;124m\"\u001b[39m \u001b[38;5;129;01mnot\u001b[39;00m \u001b[38;5;129;01min\u001b[39;00m data\n",
      "File \u001b[1;32mD:\\Anaconda\\Lib\\site-packages\\Bio\\SeqIO\\Interfaces.py:127\u001b[0m, in \u001b[0;36m_get_seq_string\u001b[1;34m(record)\u001b[0m\n\u001b[0;32m    125\u001b[0m \u001b[38;5;28;01melif\u001b[39;00m \u001b[38;5;129;01mnot\u001b[39;00m \u001b[38;5;28misinstance\u001b[39m(record\u001b[38;5;241m.\u001b[39mseq, (Seq, MutableSeq)):\n\u001b[0;32m    126\u001b[0m     \u001b[38;5;28;01mraise\u001b[39;00m \u001b[38;5;167;01mTypeError\u001b[39;00m(\u001b[38;5;124mf\u001b[39m\u001b[38;5;124m\"\u001b[39m\u001b[38;5;124mSeqRecord (id=\u001b[39m\u001b[38;5;132;01m{\u001b[39;00mrecord\u001b[38;5;241m.\u001b[39mid\u001b[38;5;132;01m}\u001b[39;00m\u001b[38;5;124m) has an invalid sequence.\u001b[39m\u001b[38;5;124m\"\u001b[39m)\n\u001b[1;32m--> 127\u001b[0m \u001b[38;5;28;01mreturn\u001b[39;00m \u001b[38;5;28mstr\u001b[39m(record\u001b[38;5;241m.\u001b[39mseq)\n",
      "File \u001b[1;32mD:\\Anaconda\\Lib\\site-packages\\Bio\\Seq.py:410\u001b[0m, in \u001b[0;36m_SeqAbstractBaseClass.__str__\u001b[1;34m(self)\u001b[0m\n\u001b[0;32m    408\u001b[0m \u001b[38;5;28;01mdef\u001b[39;00m \u001b[38;5;21m__str__\u001b[39m(\u001b[38;5;28mself\u001b[39m):\n\u001b[0;32m    409\u001b[0m \u001b[38;5;250m    \u001b[39m\u001b[38;5;124;03m\"\"\"Return the full sequence as a python string.\"\"\"\u001b[39;00m\n\u001b[1;32m--> 410\u001b[0m     \u001b[38;5;28;01mreturn\u001b[39;00m \u001b[38;5;28mself\u001b[39m\u001b[38;5;241m.\u001b[39m_data\u001b[38;5;241m.\u001b[39mdecode(\u001b[38;5;124m\"\u001b[39m\u001b[38;5;124mASCII\u001b[39m\u001b[38;5;124m\"\u001b[39m)\n",
      "File \u001b[1;32mD:\\Anaconda\\Lib\\site-packages\\Bio\\Seq.py:158\u001b[0m, in \u001b[0;36mSequenceDataAbstractBaseClass.decode\u001b[1;34m(self, encoding)\u001b[0m\n\u001b[0;32m    152\u001b[0m \u001b[38;5;28;01mdef\u001b[39;00m \u001b[38;5;21mdecode\u001b[39m(\u001b[38;5;28mself\u001b[39m, encoding\u001b[38;5;241m=\u001b[39m\u001b[38;5;124m\"\u001b[39m\u001b[38;5;124mutf-8\u001b[39m\u001b[38;5;124m\"\u001b[39m):\n\u001b[0;32m    153\u001b[0m \u001b[38;5;250m    \u001b[39m\u001b[38;5;124;03m\"\"\"Decode the data as bytes using the codec registered for encoding.\u001b[39;00m\n\u001b[0;32m    154\u001b[0m \n\u001b[0;32m    155\u001b[0m \u001b[38;5;124;03m    encoding\u001b[39;00m\n\u001b[0;32m    156\u001b[0m \u001b[38;5;124;03m      The encoding with which to decode the bytes.\u001b[39;00m\n\u001b[0;32m    157\u001b[0m \u001b[38;5;124;03m    \"\"\"\u001b[39;00m\n\u001b[1;32m--> 158\u001b[0m     \u001b[38;5;28;01mreturn\u001b[39;00m \u001b[38;5;28mbytes\u001b[39m(\u001b[38;5;28mself\u001b[39m)\u001b[38;5;241m.\u001b[39mdecode(encoding)\n",
      "File \u001b[1;32mD:\\Anaconda\\Lib\\site-packages\\Bio\\Seq.py:2390\u001b[0m, in \u001b[0;36m_UndefinedSequenceData.__bytes__\u001b[1;34m(self)\u001b[0m\n\u001b[0;32m   2389\u001b[0m \u001b[38;5;28;01mdef\u001b[39;00m \u001b[38;5;21m__bytes__\u001b[39m(\u001b[38;5;28mself\u001b[39m):\n\u001b[1;32m-> 2390\u001b[0m     \u001b[38;5;28;01mraise\u001b[39;00m UndefinedSequenceError(\u001b[38;5;124m\"\u001b[39m\u001b[38;5;124mSequence content is undefined\u001b[39m\u001b[38;5;124m\"\u001b[39m)\n",
      "\u001b[1;31mUndefinedSequenceError\u001b[0m: Sequence content is undefined"
     ]
    }
   ],
   "source": [
    "from Bio import Entrez, SeqIO, SearchIO\n",
    "from Bio.Blast import NCBIWWW, NCBIXML\n",
    "\n",
    "def search_sequences(gene_name, db=\"nucleotide\", retmax=10):\n",
    "    handle = Entrez.esearch(db=db, term=gene_name, retmax=retmax)\n",
    "    record = Entrez.read(handle)\n",
    "    handle.close()\n",
    "    ids = record[\"IdList\"]\n",
    "\n",
    "    handle = Entrez.efetch(db=db, id=ids, rettype=\"gb\", retmode=\"text\")\n",
    "    seq_records = list(SeqIO.parse(handle, \"genbank\"))\n",
    "    handle.close()\n",
    "    return seq_records\n",
    "    \n",
    "def run_blast(sequence, program=\"blastn\", database=\"nr\", evalue=0.001):\n",
    "    result_handle = NCBIWWW.qblast(program, database, sequence.format(\"fasta\"), expect=evalue)\n",
    "    blast_record = NCBIXML.read(result_handle)\n",
    "    result_handle.close()\n",
    "    return blast_record\n",
    "\n",
    "def analyze_blast_results(blast_record):\n",
    "    significant_hits = []\n",
    "    for alignment in blast_record.alignments:\n",
    "        for hsp in alignment.hsps:\n",
    "            if hsp.expect < 0.001:\n",
    "                significant_hits.append({\n",
    "                    \"title\": alignment.title,\n",
    "                    \"length\": alignment.length,\n",
    "                    \"e-value\": hsp.expect,\n",
    "                    \"identity\": hsp.identities / hsp.align_length * 100\n",
    "                })\n",
    "    return significant_hits\n",
    "\n",
    "def main():\n",
    "    gene_name = \"SO785_RS05220\"\n",
    "    seq_records = search_sequences(gene_name)\n",
    "    \n",
    "    with open(f\"{gene_name}_sequences.gb\", \"w\") as output_file:\n",
    "        SeqIO.write(seq_records, output_file, \"genbank\")   \n",
    "\n",
    "    print(\"Anotações e Características:\")\n",
    "    for record in seq_records:\n",
    "        print(f\"ID: {record.id}\")\n",
    "        print(f\"Descrição: {record.description}\")\n",
    "\n",
    "        blast_record = run_blast(record)\n",
    "        significant_hits = analyze_blast_results(blast_record)\n",
    "        \n",
    "        print(\"\\nResultados Significativos do BLAST:\")\n",
    "        for hit in significant_hits:\n",
    "            print(f\"Título: {hit['title']}\")\n",
    "            print(f\"Tamanho do alinhamento: {hit['length']}\")\n",
    "            print(f\"E-value: {hit['e-value']:.3e}\")\n",
    "            print(f\"Identidade: {hit['identity']:.2f}%\")\n",
    "            print(\"-\" * 80)\n",
    "\n",
    "if __name__ == \"__main__\":\n",
    "    main()"
   ]
  }
 ],
 "metadata": {
  "kernelspec": {
   "display_name": "Python 3 (ipykernel)",
   "language": "python",
   "name": "python3"
  },
  "language_info": {
   "codemirror_mode": {
    "name": "ipython",
    "version": 3
   },
   "file_extension": ".py",
   "mimetype": "text/x-python",
   "name": "python",
   "nbconvert_exporter": "python",
   "pygments_lexer": "ipython3",
   "version": "3.12.4"
  }
 },
 "nbformat": 4,
 "nbformat_minor": 5
}
