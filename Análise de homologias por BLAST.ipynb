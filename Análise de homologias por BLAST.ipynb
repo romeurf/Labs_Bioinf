{
 "cells": [
  {
   "cell_type": "code",
   "execution_count": 17,
   "id": "438350a8-375c-4d3d-8aa3-60c62bc64cfb",
   "metadata": {},
   "outputs": [
    {
     "name": "stdout",
     "output_type": "stream",
     "text": [
      "Processing File: 93290188.fna\n",
      "Results for 93290188.fna saved in 93290188_blast.xml\n",
      "Processing File: glgA.fna\n",
      "Results for glgA.fna saved in glgA_blast.xml\n",
      "Processing File: glgB.fasta\n",
      "Results for glgB.fasta saved in glgB_blast.xml\n",
      "Processing File: glgD.fasta\n",
      "Results for glgD.fasta saved in glgD_blast.xml\n"
     ]
    }
   ],
   "source": [
    "from Bio.Blast import NCBIWWW\n",
    "from Bio import SeqIO\n",
    "import os\n",
    "\n",
    "def run_blast(sequence, database=\"nr\", program=\"blastn\", evalue_threshold=0.001):\n",
    "    result_handle = NCBIWWW.qblast(program, database, sequence, expect=evalue_threshold)\n",
    "    return result_handle\n",
    "\n",
    "def read_fasta_file(fasta_file_path):\n",
    "    for record in SeqIO.parse(fasta_file_path, \"fasta\"):\n",
    "        return str(record.seq)\n",
    "\n",
    "def process_file(fasta_file):\n",
    "    output_file_name = os.path.splitext(fasta_file)[0] + \"_blast.xml\"\n",
    "    \n",
    "    print(f\"Processing File: {fasta_file}\")\n",
    "    try:\n",
    "        gene_sequence = read_fasta_file(fasta_file)\n",
    "        \n",
    "        result_handle = run_blast(gene_sequence)\n",
    "\n",
    "        with open(output_file_name, \"w\") as output_file:\n",
    "            output_file.write(result_handle.read())\n",
    "        \n",
    "        result_handle.close()\n",
    "        \n",
    "        print(f\"Results for {fasta_file} saved in {output_file_name}\")\n",
    "    except Exception as e:\n",
    "        print(f\"Error processing {fasta_file}: {e}\")\n",
    "\n",
    "if __name__ == \"__main__\":\n",
    "    fasta_files = [\n",
    "        \"93290188.fna\",\n",
    "        \"glgA.fna\",\n",
    "        \"glgB.fasta\",\n",
    "        \"glgD.fasta\"\n",
    "    ]\n",
    "    \n",
    "    for fasta_file in fasta_files:\n",
    "        process_file(fasta_file)\n"
   ]
  }
 ],
 "metadata": {
  "kernelspec": {
   "display_name": "Python 3 (ipykernel)",
   "language": "python",
   "name": "python3"
  },
  "language_info": {
   "codemirror_mode": {
    "name": "ipython",
    "version": 3
   },
   "file_extension": ".py",
   "mimetype": "text/x-python",
   "name": "python",
   "nbconvert_exporter": "python",
   "pygments_lexer": "ipython3",
   "version": "3.12.4"
  }
 },
 "nbformat": 4,
 "nbformat_minor": 5
}
