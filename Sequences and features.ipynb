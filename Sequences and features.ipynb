{
 "cells": [
  {
   "cell_type": "markdown",
   "id": "82a233b418ff7b68",
   "metadata": {},
   "source": [
    "**1. Análise da sequência e das features presentes no NCBI**"
   ]
  },
  {
   "cell_type": "code",
   "execution_count": 1,
   "id": "5f794ffc9657e800",
   "metadata": {
    "ExecuteTime": {
     "end_time": "2025-01-16T21:10:55.775891Z",
     "start_time": "2025-01-16T21:10:55.773066Z"
    }
   },
   "outputs": [],
   "source": [
    "from Bio import Entrez\n",
    "from Bio import SeqIO\n",
    "from Bio.Seq import Seq\n",
    "from Bio.SeqRecord import SeqRecord\n",
    "from Bio import SeqFeature"
   ]
  },
  {
   "cell_type": "code",
   "execution_count": 3,
   "id": "8a877f9a7d975e88",
   "metadata": {
    "ExecuteTime": {
     "end_time": "2025-01-16T21:10:56.955814Z",
     "start_time": "2025-01-16T21:10:56.952079Z"
    }
   },
   "outputs": [],
   "source": [
    "Entrez.email = 'pg40082@alunos.uminho.pt'"
   ]
  },
  {
   "cell_type": "code",
   "execution_count": 5,
   "id": "317a2c80bc053373",
   "metadata": {
    "ExecuteTime": {
     "end_time": "2025-01-16T21:10:57.310200Z",
     "start_time": "2025-01-16T21:10:57.307665Z"
    }
   },
   "outputs": [],
   "source": [
    "#Neste script os genes serão manipulados na seguinte ordem: glgA, glgB, glgD e SO785_RS05220\n",
    "list_nomes_genes = ['glgA', 'glgB', 'glgD', 'SO785_RS05220']\n",
    "list_genes_id = ['93290189', '93290192', '93290190', '93290188,']\n",
    "list_genomic_sequence = 'NZ_CP139575.1' #igual para os 4 genes\n",
    "list_mRNA_id = ['WP_003546574.1 ', 'WP_003546573.1', 'WP_003546577.1 '] #glgB não tem\n",
    "list_protein_id = ['Q5FL65','Q5FL68','Q5FL66', 'Q5FL64'] "
   ]
  },
  {
   "cell_type": "markdown",
   "id": "9abdcd64-ffd2-404b-9721-6f905e97a5f0",
   "metadata": {},
   "source": [
    "## **Análise das sequências, características dos genes e das proteínas**"
   ]
  },
  {
   "cell_type": "markdown",
   "id": "05182a96-5227-4092-a832-5ecbe59da440",
   "metadata": {},
   "source": [
    "### **Proteínas**"
   ]
  },
  {
   "cell_type": "code",
   "execution_count": 13,
   "id": "b904c800563d1407",
   "metadata": {
    "ExecuteTime": {
     "end_time": "2025-01-16T21:04:43.437102Z",
     "start_time": "2025-01-16T21:03:36.027955Z"
    }
   },
   "outputs": [
    {
     "name": "stdout",
     "output_type": "stream",
     "text": [
      "--- Informações sobre o Gene e a Proteína ---\n",
      "Nome do Gene: glgA\n",
      "ID da proteína: Q5FL65.1\n",
      "Descrição da proteína: RecName: Full=Glycogen synthase; AltName: Full=Starch [bacterial glycogen] synthase\n",
      "Organismo: Lactobacillus acidophilus NCFM\n",
      "Taxonomia: Bacteria > Bacillati > Bacillota > Bacilli > Lactobacillales > Lactobacillaceae > Lactobacillus\n",
      "Domínios Proteicos:\n",
      "Tamanho da Sequência: 476 aminoácidos\n",
      "Sequência (primeiros 50 aa): MRVLFTGAECAPFFKTGGLGDVLGSLPNQLAKEGVDVGVVLPLYQDLPEK...\n",
      "\n",
      "--- Informações sobre o Gene e a Proteína ---\n",
      "Nome do Gene: glgB\n",
      "ID da proteína: Q5FL68.1\n",
      "Descrição da proteína: RecName: Full=1,4-alpha-glucan branching enzyme GlgB; AltName: Full=1,4-alpha-D-glucan:1,4-alpha-D-glucan 6-glucosyl-transferase; AltName: Full=Alpha-(1->4)-glucan branching enzyme; AltName: Full=Glycogen branching enzyme; Short=BE\n",
      "Organismo: Lactobacillus acidophilus NCFM\n",
      "Taxonomia: Bacteria > Bacillati > Bacillota > Bacilli > Lactobacillales > Lactobacillaceae > Lactobacillus\n",
      "Domínios Proteicos:\n",
      "Tamanho da Sequência: 638 aminoácidos\n",
      "Sequência (primeiros 50 aa): MVTIVEVKQHIKKFAAGNELYLQEVLGCHYENDIYTFRVWAPNAQKVWLV...\n",
      "\n",
      "--- Informações sobre o Gene e a Proteína ---\n",
      "Nome do Gene: Desconhecido\n",
      "ID da proteína: Q5FL66\n",
      "Descrição da proteína: Glucose-1-phosphate adenylyltransferase\n",
      "Organismo: Lactobacillus acidophilus\n",
      "Taxonomia: Bacteria > Firmicutes > Bacilli > Lactobacillales > Lactobacillaceae > Lactobacillus\n",
      "Domínios Proteicos:\n",
      "Tamanho da Sequência: 380 aminoácidos\n",
      "Sequência (primeiros 50 aa): MKTNKMAAIFSNQHEYNELRPLTDERSLSALYFAGKYRIMDFALSSIVNA...\n",
      "\n",
      "--- Informações sobre o Gene e a Proteína ---\n",
      "Nome do Gene: Desconhecido\n",
      "ID da proteína: Q5FL64\n",
      "Descrição da proteína: Glycogen phosphorylase\n",
      "Organismo: Lactobacillus acidophilus\n",
      "Taxonomia: Bacteria > Firmicutes > Bacilli > Lactobacillales > Lactobacillaceae > Lactobacillus\n",
      "Domínios Proteicos:\n",
      "Tamanho da Sequência: 803 aminoácidos\n",
      "Sequência (primeiros 50 aa): MQLTKDEFKKKLKNKVNIYFEEELDEASNSELYTALSGVVRDGYAPQWRR...\n",
      "\n"
     ]
    }
   ],
   "source": [
    "protein_id = ['Q5FL65', 'Q5FL68', 'Q5FL66', 'Q5FL64']\n",
    "\n",
    "# Mapeamento entre IDs das proteínas e nomes dos genes\n",
    "protein_gene_map = {\n",
    "    'Q5FL65.1': 'glgA',\n",
    "    'Q5FL68.1': 'glgB',\n",
    "    'Q5FL66.1': 'glgD',  \n",
    "    'Q5FL64.1': 'SO785_RS05220'\n",
    "}\n",
    "\n",
    "\n",
    "def fetch_protein_records(protein_id):\n",
    "    records = [] \n",
    "    for protein in protein_id:\n",
    "        try:\n",
    "            with Entrez.efetch(db=\"protein\", id=protein, rettype=\"gb\", retmode=\"text\") as handle:\n",
    "                record = SeqIO.read(handle, \"genbank\")\n",
    "                records.append(record)\n",
    "        except Exception as e:\n",
    "            print(f\"Erro ao processar o ID da proteína {protein}: {e}\")\n",
    "    return records\n",
    "\n",
    "\n",
    "records = fetch_protein_records(protein_id)\n",
    "\n",
    "\n",
    "for record in records:\n",
    "    gene_name = protein_gene_map.get(record.id, \"Desconhecido\")\n",
    "    \n",
    "    print(f\"--- Informações sobre o Gene e a Proteína ---\")\n",
    "    print(f\"Nome do Gene: {gene_name}\")\n",
    "    print(f\"ID da proteína: {record.id}\")\n",
    "    print(f\"Descrição da proteína: {record.description}\")\n",
    "    \n",
    "    organism = record.annotations.get(\"organism\", \"Desconhecido\")\n",
    "    taxonomy = \" > \".join(record.annotations.get(\"taxonomy\", [\"Desconhecido\"]))\n",
    "    print(f\"Organismo: {organism}\")\n",
    "    print(f\"Taxonomia: {taxonomy}\")\n",
    "    \n",
    "    print(\"Domínios Proteicos:\")\n",
    "    for feature in record.features:\n",
    "        if feature.type in ['region', 'CDS', 'exon', 'repeat_region']:\n",
    "            start = feature.location.start\n",
    "            end = feature.location.end\n",
    "            print(f\"  - Tipo: {feature.type} | Localização: {start} até {end}\")\n",
    "            \n",
    "            if \"product\" in feature.qualifiers:\n",
    "                print(f\"    Produto: {', '.join(feature.qualifiers['product'])}\")\n",
    "            if \"note\" in feature.qualifiers:\n",
    "                print(f\"    Nota: {', '.join(feature.qualifiers['note'])}\")\n",
    "            if \"db_xref\" in feature.qualifiers:\n",
    "                print(f\"    Referências externas: {', '.join(feature.qualifiers['db_xref'])}\")\n",
    "    \n",
    "    print(f\"Tamanho da Sequência: {len(record.seq)} aminoácidos\")\n",
    "    print(f\"Sequência (primeiros 50 aa): {record.seq[:50]}...\\n\")"
   ]
  },
  {
   "cell_type": "markdown",
   "id": "2f97c79b-e46e-4ebd-88ab-303a99e718af",
   "metadata": {},
   "source": [
    "### **mRNA**"
   ]
  },
  {
   "cell_type": "code",
   "execution_count": 16,
   "id": "1aa5420b-3d45-4d05-aa54-667b6913a064",
   "metadata": {
    "ExecuteTime": {
     "end_time": "2025-01-16T21:04:43.444908Z",
     "start_time": "2025-01-16T21:02:51.210907Z"
    }
   },
   "outputs": [
    {
     "name": "stdout",
     "output_type": "stream",
     "text": [
      "--- Informações sobre o Gene ---\n",
      "Nome do Gene: glgA\n",
      "ID da Proteína: WP_003546574.1\n",
      "Descrição: glycogen synthase GlgA [Lactobacillus acidophilus]\n",
      "Tamanho da Sequência: 476 bases\n",
      "Sequência (primeiros 50 bases): MRVLFTGAECAPFFKTGGLGDVLGSLPNQLAKEGVDVGVVLPLYQDLPEK...\n",
      "\n",
      "--- Informações sobre o Gene ---\n",
      "Nome do Gene: glgD\n",
      "ID da Proteína: WP_003546573.1\n",
      "Descrição: glucose-1-phosphate adenylyltransferase subunit GlgD [Lactobacillus acidophilus]\n",
      "Tamanho da Sequência: 380 bases\n",
      "Sequência (primeiros 50 bases): MKTNKMAAIFSNQHEYNELRPLTDERSLSALYFAGKYRIMDFALSSIVNA...\n",
      "\n",
      "--- Informações sobre o Gene ---\n",
      "Nome do Gene: SO785_RS05220\n",
      "ID da Proteína: WP_003546577.1\n",
      "Descrição: glycogen/starch/alpha-glucan phosphorylase [Lactobacillus acidophilus]\n",
      "Tamanho da Sequência: 803 bases\n",
      "Sequência (primeiros 50 bases): MQLTKDEFKKKLKNKVNIYFEEELDEASNSELYTALSGVVRDGYAPQWRR...\n",
      "\n"
     ]
    }
   ],
   "source": [
    "mRNA_gene_map = {\n",
    "    'WP_003546574.1': 'glgA',\n",
    "    'WP_003546573.1': 'glgD',\n",
    "    'WP_003546577.1': 'SO785_RS05220'\n",
    "}\n",
    "\n",
    "def fetch_records(mRNA_id):\n",
    "    records = [] \n",
    "    for mRNA in mRNA_id:\n",
    "        try:\n",
    "            with Entrez.efetch(db=\"protein\", id=mRNA, rettype=\"gb\", retmode=\"text\") as handle:  \n",
    "                record = SeqIO.read(handle, \"genbank\")\n",
    "                records.append(record)\n",
    "        except Exception as e:\n",
    "            print(f\"Erro ao processar mRNA ID {mRNA}: {e}\")\n",
    "    return records\n",
    "\n",
    "\n",
    "mRNA_id = ['WP_003546574.1', 'WP_003546573.1', 'WP_003546577.1']\n",
    "\n",
    "\n",
    "records = fetch_records(mRNA_id)\n",
    "\n",
    "for record in records:\n",
    "    print(f\"--- Informações sobre o Gene ---\")\n",
    "    gene_name = mRNA_gene_map.get(record.id, \"Desconhecido\")  \n",
    "    print(f\"Nome do Gene: {gene_name}\")\n",
    "    print(f\"ID da Proteína: {record.id}\")\n",
    "    print(f\"Descrição: {record.description}\")\n",
    "    print(f\"Tamanho da Sequência: {len(record.seq)} bases\")\n",
    "    print(f\"Sequência (primeiros 50 bases): {record.seq[:50]}...\\n\")\n"
   ]
  },
  {
   "cell_type": "markdown",
   "id": "5cab9970-6f79-479c-8eb8-a96a3c3768d6",
   "metadata": {},
   "source": [
    "### **Genes**"
   ]
  },
  {
   "cell_type": "markdown",
   "id": "9b53916b-e580-4f21-afde-a8126dafcdb5",
   "metadata": {},
   "source": [
    "### *glgA*"
   ]
  },
  {
   "cell_type": "code",
   "execution_count": 64,
   "id": "15b181a921828b11",
   "metadata": {},
   "outputs": [
    {
     "name": "stdout",
     "output_type": "stream",
     "text": [
      "Sequência (primeiras 50 bases): GTGCGAGTTTTATTTACTGGTGCTGAATGTGCACCTTTTTTCAAAACTGG...\n",
      "ID: NZ_CP139575.1\n",
      "Nome: NZ_CP139575\n",
      "Fonte: Lactobacillus acidophilus\n",
      "\n",
      "Anotações:\n",
      "  molecule_type: DNA\n",
      "  topology: linear\n",
      "  data_file_division: CON\n",
      "  date: 09-DEC-2024\n",
      "  accessions: NZ_CP139575, REGION:, complement(1142999..1144429)\n",
      "  sequence_version: 1\n",
      "  keywords: RefSeq\n",
      "  source: Lactobacillus acidophilus\n",
      "  organism: Lactobacillus acidophilus\n",
      "  taxonomy: Bacteria, Bacillati, Bacillota, Bacilli, Lactobacillales, Lactobacillaceae, Lactobacillus\n",
      "  references: location: [0:1431]\n",
      "authors: Kumar,A., Rawat,M., Kunde,Y., Davenport,K., Al-Sadi,R., Chain,P. and Ma,T.\n",
      "title: The Complete Genome Sequence of Probiotic Lactobacillus acidophilus ATCC 9224 isolated from sour milk\n",
      "journal: Unpublished\n",
      "medline id: \n",
      "pubmed id: \n",
      "comment: \n",
      ", location: [0:1431]\n",
      "authors: Kumar,A.\n",
      "title: Direct Submission\n",
      "journal: Submitted (30-NOV-2023) Bioscience, Los Alamos National Laboratory, Bikini Atoll Road SM 30 M888, Los Alamos, NM 87545, USA\n",
      "medline id: \n",
      "pubmed id: \n",
      "comment: \n",
      "\n",
      "  comment: REFSEQ INFORMATION: The reference sequence is identical to\n",
      "CP139575.1.\n",
      "Bacteria and source DNA available from Anand Kumar Bikini Atoll Rd,\n",
      "SM-30, Los Alamos National Lab, Los Alamos, NM.\n",
      "The annotation was added by the NCBI Prokaryotic Genome Annotation\n",
      "Pipeline (PGAP). Information about PGAP can be found here:\n",
      "https://www.ncbi.nlm.nih.gov/genome/annotation_prok/\n",
      "COMPLETENESS: full length.\n",
      "  structured_comment: defaultdict(<class 'dict'>, {'Genome-Assembly-Data': {'Assembly Date': '17-JUL-2017', 'Assembly Method': 'HGAP v. 3.0', 'Genome Representation': 'Full', 'Expected Final Version': 'Yes', 'Genome Coverage': '25.0x', 'Sequencing Technology': 'PacBio RSII'}, 'Genome-Annotation-Data': {'Annotation Provider': 'NCBI RefSeq', 'Annotation Name': 'GCF_034298135.1-RS_2024_12_09', 'Annotation Date': '12/09/2024 18:47:07', 'Annotation Pipeline': 'NCBI Prokaryotic Genome Annotation Pipeline (PGAP)', 'Annotation Method': 'Best-placed reference protein set; GeneMarkS-2+', 'Annotation Software revision': '6.9', 'Features Annotated': 'Gene; CDS; rRNA; tRNA; ncRNA', 'Genes (total)': '1,917', 'CDSs (total)': '1,842', 'Genes (coding)': '1,763', 'CDSs (with protein)': '1,763', 'Genes (RNA)': '75', 'rRNAs': '4, 4, 4 (5S, 16S, 23S)', 'complete rRNAs': '4, 4, 4 (5S, 16S, 23S)', 'tRNAs': '60', 'ncRNAs': '3', 'Pseudo Genes (total)': '79', 'CDSs (without protein)': '79', 'Pseudo Genes (ambiguous residues)': '0 of 79', 'Pseudo Genes (frameshifted)': '59 of 79', 'Pseudo Genes (incomplete)': '17 of 79', 'Pseudo Genes (internal stop)': '16 of 79', 'Pseudo Genes (multiple problems)': '12 of 79', 'CRISPR Arrays': '1'}})\n",
      "\n",
      "Número de Features: 3\n",
      "\n",
      "Detalhes das Features:\n",
      "  Tipo: source\n",
      "    Localização: [0:1431](+)\n",
      "    organism: Lactobacillus acidophilus\n",
      "    mol_type: genomic DNA\n",
      "    strain: ATCC 4356\n",
      "    host: Homo sapiens\n",
      "    type_material: type strain of Lactobacillus acidophilus\n",
      "    db_xref: taxon:1579\n",
      "    geo_loc_name: USA\n",
      "    collection_date: 2017-07-17\n",
      "    collected_by: ATCC\n",
      "--------------------------------------------------\n",
      "  Tipo: gene\n",
      "    Localização: [0:1431](+)\n",
      "    gene: glgA\n",
      "    locus_tag: SO785_RS05225\n",
      "    db_xref: GeneID:93290189\n",
      "--------------------------------------------------\n",
      "  Tipo: CDS\n",
      "    Localização: [0:1431](+)\n",
      "    gene: glgA\n",
      "    locus_tag: SO785_RS05225\n",
      "    EC_number: 2.4.1.21\n",
      "    inference: COORDINATES: similar to AA sequence:RefSeq:WP_007125248.1\n",
      "    GO_function: GO:0004373 - alpha-1,4-glucan glucosyltransferase (UDP-glucose donor) activity [Evidence IEA]\n",
      "    note: Derived by automated computational analysis using gene prediction method: Protein Homology.\n",
      "    codon_start: 1\n",
      "    transl_table: 11\n",
      "    product: glycogen synthase GlgA\n",
      "    protein_id: WP_003546574.1\n",
      "    db_xref: GeneID:93290189\n",
      "    translation: MRVLFTGAECAPFFKTGGLGDVLGSLPNQLAKEGVDVGVVLPLYQDLPEKYRKNLKYQGNFIVPVGWRNQYCGIFTLKLNGVNYFFIDNEYYFKRPGIYGYYDDGERYAYFQQAVIMMMERFDFIPDVLHCNDYHTAFIPFLLHEKWGFVDAYKGIKTILTIHNLEFQGKYNAKTLPDFFGMNYDWFDSGIVRMDNDVNWMKTGILYADRVTTVSPSYAREIQTVEFGQGLDAILRMCSHKLTGILNGIDFEKYNPKTDPVIKKNYDVYHLHHKSKDKIALQKELDLPIKPNIPLIGMVSRLTAQKGCQLLLDELDNILQFNVQIVILGNGDPYYEHRLMEIAERYPDKLKVILAFDVKLAQRIYAGADSFLMPSAFEPCGLSQLIALRYGTLPIVHEIGGLADTVWVYDETTNEGTGFGFKEFSGYQMVQAIKKMLALYQQKNNWLKIQKIAMKSDFSWKNSADKYKWMYGELIG\n",
      "--------------------------------------------------\n"
     ]
    }
   ],
   "source": [
    "record = SeqIO.read('glgA.gb', 'genbank')\n",
    "\n",
    "from Bio import SeqIO\n",
    "\n",
    "\n",
    "record = SeqIO.read('glgA.gb', \"genbank\")\n",
    "\n",
    "\n",
    "print(f\"Sequência (primeiras 50 bases): {record.seq[:50]}...\")\n",
    "print(f\"ID: {record.id}\")\n",
    "print(f\"Nome: {record.name}\")\n",
    "print(f\"Fonte: {record.annotations.get('source')}\")\n",
    "\n",
    "\n",
    "print(\"\\nAnotações:\")\n",
    "for key, value in record.annotations.items():\n",
    "    if isinstance(value, list):\n",
    "        print(f\"  {key}: {', '.join(map(str, value))}\")\n",
    "    else:\n",
    "        print(f\"  {key}: {value}\")\n",
    "\n",
    "\n",
    "print(f\"\\nNúmero de Features: {len(record.features)}\")\n",
    "\n",
    "\n",
    "print(\"\\nDetalhes das Features:\")\n",
    "for feature in record.features:\n",
    "    print(f\"  Tipo: {feature.type}\")\n",
    "    print(f\"    Localização: {feature.location}\")\n",
    "    if feature.qualifiers:\n",
    "        for key, value in feature.qualifiers.items():\n",
    "            print(f\"    {key}: {', '.join(value)}\")\n",
    "    print(\"-\" * 50)"
   ]
  },
  {
   "cell_type": "code",
   "execution_count": null,
   "id": "82ef2504-11c8-43ce-84ac-5712a6279ad9",
   "metadata": {},
   "outputs": [],
   "source": []
  }
 ],
 "metadata": {
  "kernelspec": {
   "display_name": "Python 3 (ipykernel)",
   "language": "python",
   "name": "python3"
  },
  "language_info": {
   "codemirror_mode": {
    "name": "ipython",
    "version": 3
   },
   "file_extension": ".py",
   "mimetype": "text/x-python",
   "name": "python",
   "nbconvert_exporter": "python",
   "pygments_lexer": "ipython3",
   "version": "3.12.3"
  }
 },
 "nbformat": 4,
 "nbformat_minor": 5
}
