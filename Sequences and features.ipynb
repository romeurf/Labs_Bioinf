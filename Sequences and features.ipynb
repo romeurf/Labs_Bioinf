{
 "cells": [
  {
   "cell_type": "markdown",
   "id": "82a233b418ff7b68",
   "metadata": {},
   "source": [
    "**1. Análise da sequência e das features presentes no NCBI**"
   ]
  },
  {
   "cell_type": "code",
   "execution_count": 20,
   "id": "5f794ffc9657e800",
   "metadata": {},
   "outputs": [],
   "source": [
    "from Bio import Entrez\n",
    "from Bio import SeqIO"
   ]
  },
  {
   "cell_type": "code",
   "execution_count": 22,
   "id": "8a877f9a7d975e88",
   "metadata": {},
   "outputs": [],
   "source": [
    "Entrez.email = 'pg40082@alunos.uminho.pt'"
   ]
  },
  {
   "cell_type": "code",
   "execution_count": 94,
   "id": "cb31338c-69ca-4750-af03-4ecc96de7970",
   "metadata": {},
   "outputs": [
    {
     "name": "stdout",
     "output_type": "stream",
     "text": [
      "Anotações gerais:\n",
      " molecule_type: DNA\n",
      " topology: circular\n",
      " data_file_division: CON\n",
      " date: 09-DEC-2024\n",
      " accessions: ['NZ_CP139575']\n",
      " sequence_version: 1\n",
      " keywords: ['RefSeq']\n",
      " source: Lactobacillus acidophilus\n",
      " organism: Lactobacillus acidophilus\n",
      " taxonomy: ['Bacteria', 'Bacillati', 'Bacillota', 'Bacilli', 'Lactobacillales', 'Lactobacillaceae', 'Lactobacillus']\n",
      " references: [Reference(title='The Complete Genome Sequence of Probiotic Lactobacillus acidophilus ATCC 9224 isolated from sour milk', ...), Reference(title='Direct Submission', ...)]\n",
      " comment: REFSEQ INFORMATION: The reference sequence is identical to\n",
      "CP139575.1.\n",
      "Bacteria and source DNA available from Anand Kumar Bikini Atoll Rd,\n",
      "SM-30, Los Alamos National Lab, Los Alamos, NM.\n",
      "The annotation was added by the NCBI Prokaryotic Genome Annotation\n",
      "Pipeline (PGAP). Information about PGAP can be found here:\n",
      "https://www.ncbi.nlm.nih.gov/genome/annotation_prok/\n",
      "COMPLETENESS: full length.\n",
      " structured_comment: defaultdict(<class 'dict'>, {'Genome-Assembly-Data': {'Assembly Date': '17-JUL-2017', 'Assembly Method': 'HGAP v. 3.0', 'Genome Representation': 'Full', 'Expected Final Version': 'Yes', 'Genome Coverage': '25.0x', 'Sequencing Technology': 'PacBio RSII'}, 'Genome-Annotation-Data': {'Annotation Provider': 'NCBI RefSeq', 'Annotation Name': 'GCF_034298135.1-RS_2024_12_09', 'Annotation Date': '12/09/2024 18:47:07', 'Annotation Pipeline': 'NCBI Prokaryotic Genome Annotation Pipeline (PGAP)', 'Annotation Method': 'Best-placed reference protein set; GeneMarkS-2+', 'Annotation Software revision': '6.9', 'Features Annotated': 'Gene; CDS; rRNA; tRNA; ncRNA', 'Genes (total)': '1,917', 'CDSs (total)': '1,842', 'Genes (coding)': '1,763', 'CDSs (with protein)': '1,763', 'Genes (RNA)': '75', 'rRNAs': '4, 4, 4 (5S, 16S, 23S)', 'complete rRNAs': '4, 4, 4 (5S, 16S, 23S)', 'tRNAs': '60', 'ncRNAs': '3', 'Pseudo Genes (total)': '79', 'CDSs (without protein)': '79', 'Pseudo Genes (ambiguous residues)': '0 of 79', 'Pseudo Genes (frameshifted)': '59 of 79', 'Pseudo Genes (incomplete)': '17 of 79', 'Pseudo Genes (internal stop)': '16 of 79', 'Pseudo Genes (multiple problems)': '12 of 79', 'CRISPR Arrays': '1'}})\n",
      " contig: join(CP139575.1:1..1978847)\n",
      "\n",
      "Features Analisadas:\n",
      " Tipo: source\n",
      " Localização: [0:1978847](+)\n",
      "\n",
      "Resumo da Sequência:\n",
      " Tamanho: 1978847 bp\n"
     ]
    },
    {
     "ename": "UndefinedSequenceError",
     "evalue": "Sequence content is undefined",
     "output_type": "error",
     "traceback": [
      "\u001b[0;31m---------------------------------------------------------------------------\u001b[0m",
      "\u001b[0;31mUndefinedSequenceError\u001b[0m                    Traceback (most recent call last)",
      "Cell \u001b[0;32mIn[94], line 28\u001b[0m\n\u001b[1;32m     26\u001b[0m id_acesso \u001b[38;5;241m=\u001b[39m \u001b[38;5;124m\"\u001b[39m\u001b[38;5;124mNZ_CP139575.1\u001b[39m\u001b[38;5;124m\"\u001b[39m \n\u001b[1;32m     27\u001b[0m dados_genbank(id_acesso)\n\u001b[0;32m---> 28\u001b[0m analisar_resultados_genbank(record)\n",
      "Cell \u001b[0;32mIn[94], line 23\u001b[0m, in \u001b[0;36manalisar_resultados_genbank\u001b[0;34m(record)\u001b[0m\n\u001b[1;32m     21\u001b[0m \u001b[38;5;28mprint\u001b[39m(\u001b[38;5;124m\"\u001b[39m\u001b[38;5;130;01m\\n\u001b[39;00m\u001b[38;5;124mResumo da Sequência:\u001b[39m\u001b[38;5;124m\"\u001b[39m)\n\u001b[1;32m     22\u001b[0m \u001b[38;5;28mprint\u001b[39m(\u001b[38;5;124mf\u001b[39m\u001b[38;5;124m\"\u001b[39m\u001b[38;5;124m Tamanho: \u001b[39m\u001b[38;5;132;01m{\u001b[39;00m\u001b[38;5;28mlen\u001b[39m(record\u001b[38;5;241m.\u001b[39mseq)\u001b[38;5;132;01m}\u001b[39;00m\u001b[38;5;124m bp\u001b[39m\u001b[38;5;124m\"\u001b[39m)\n\u001b[0;32m---> 23\u001b[0m \u001b[38;5;28mprint\u001b[39m(\u001b[38;5;124mf\u001b[39m\u001b[38;5;124m\"\u001b[39m\u001b[38;5;124m Nucleótidos: \u001b[39m\u001b[38;5;132;01m{\u001b[39;00mrecord\u001b[38;5;241m.\u001b[39mseq\u001b[38;5;132;01m}\u001b[39;00m\u001b[38;5;124m\"\u001b[39m)\n",
      "File \u001b[0;32m/opt/anaconda3/lib/python3.12/site-packages/Bio/Seq.py:410\u001b[0m, in \u001b[0;36m_SeqAbstractBaseClass.__str__\u001b[0;34m(self)\u001b[0m\n\u001b[1;32m    408\u001b[0m \u001b[38;5;28;01mdef\u001b[39;00m \u001b[38;5;21m__str__\u001b[39m(\u001b[38;5;28mself\u001b[39m):\n\u001b[1;32m    409\u001b[0m \u001b[38;5;250m    \u001b[39m\u001b[38;5;124;03m\"\"\"Return the full sequence as a python string.\"\"\"\u001b[39;00m\n\u001b[0;32m--> 410\u001b[0m     \u001b[38;5;28;01mreturn\u001b[39;00m \u001b[38;5;28mself\u001b[39m\u001b[38;5;241m.\u001b[39m_data\u001b[38;5;241m.\u001b[39mdecode(\u001b[38;5;124m\"\u001b[39m\u001b[38;5;124mASCII\u001b[39m\u001b[38;5;124m\"\u001b[39m)\n",
      "File \u001b[0;32m/opt/anaconda3/lib/python3.12/site-packages/Bio/Seq.py:158\u001b[0m, in \u001b[0;36mSequenceDataAbstractBaseClass.decode\u001b[0;34m(self, encoding)\u001b[0m\n\u001b[1;32m    152\u001b[0m \u001b[38;5;28;01mdef\u001b[39;00m \u001b[38;5;21mdecode\u001b[39m(\u001b[38;5;28mself\u001b[39m, encoding\u001b[38;5;241m=\u001b[39m\u001b[38;5;124m\"\u001b[39m\u001b[38;5;124mutf-8\u001b[39m\u001b[38;5;124m\"\u001b[39m):\n\u001b[1;32m    153\u001b[0m \u001b[38;5;250m    \u001b[39m\u001b[38;5;124;03m\"\"\"Decode the data as bytes using the codec registered for encoding.\u001b[39;00m\n\u001b[1;32m    154\u001b[0m \n\u001b[1;32m    155\u001b[0m \u001b[38;5;124;03m    encoding\u001b[39;00m\n\u001b[1;32m    156\u001b[0m \u001b[38;5;124;03m      The encoding with which to decode the bytes.\u001b[39;00m\n\u001b[1;32m    157\u001b[0m \u001b[38;5;124;03m    \"\"\"\u001b[39;00m\n\u001b[0;32m--> 158\u001b[0m     \u001b[38;5;28;01mreturn\u001b[39;00m \u001b[38;5;28mbytes\u001b[39m(\u001b[38;5;28mself\u001b[39m)\u001b[38;5;241m.\u001b[39mdecode(encoding)\n",
      "File \u001b[0;32m/opt/anaconda3/lib/python3.12/site-packages/Bio/Seq.py:2390\u001b[0m, in \u001b[0;36m_UndefinedSequenceData.__bytes__\u001b[0;34m(self)\u001b[0m\n\u001b[1;32m   2389\u001b[0m \u001b[38;5;28;01mdef\u001b[39;00m \u001b[38;5;21m__bytes__\u001b[39m(\u001b[38;5;28mself\u001b[39m):\n\u001b[0;32m-> 2390\u001b[0m     \u001b[38;5;28;01mraise\u001b[39;00m UndefinedSequenceError(\u001b[38;5;124m\"\u001b[39m\u001b[38;5;124mSequence content is undefined\u001b[39m\u001b[38;5;124m\"\u001b[39m)\n",
      "\u001b[0;31mUndefinedSequenceError\u001b[0m: Sequence content is undefined"
     ]
    }
   ],
   "source": [
    "def dados_genbank(id_acesso):\n",
    "    with Entrez.efetch(db =\"nucleotide\", id= id_acesso, rettype=\"gb\", retmode=\"text\") as handle:\n",
    "        record = SeqIO.read(handle, \"genbank\")\n",
    "    return record\n",
    "\n",
    "def analisar_resultados_genbank(record):\n",
    "    print('Anotações gerais:')\n",
    "    for key, value in record.annotations.items():\n",
    "        print(f\" {key}: {value}\")\n",
    "\n",
    "\n",
    "    print(\"\\nFeatures Analisadas:\")\n",
    "    for feature in record.features:\n",
    "        print(f\" Tipo: {feature.type}\")\n",
    "        if \"gene\" in feature.qualifiers:\n",
    "            print(f\" Gene: {feature.qualifiers['gene'][0]}\")\n",
    "        if \"product\" in feature.qualifiers:\n",
    "            print (f\" Produto: {feature.qualifiers['product'][0]}\")\n",
    "        print(f\" Localização: {feature.location}\")\n",
    "\n",
    "    print(\"\\nResumo da Sequência:\")\n",
    "    print(f\" Tamanho: {len(record.seq)} bp\")\n",
    "    print(f\" Nucleótidos: {record.seq}\")\n",
    "\n",
    "if __name__ == \"__main__\":\n",
    "    id_acesso = \"NZ_CP139575.1\" \n",
    "    dados_genbank(id_acesso)\n",
    "    analisar_resultados_genbank(record)"
   ]
  },
  {
   "cell_type": "code",
   "execution_count": null,
   "id": "a550d3a7-75cd-4323-bb57-aefaaf7055b2",
   "metadata": {},
   "outputs": [],
   "source": []
  }
 ],
 "metadata": {
  "kernelspec": {
   "display_name": "Python 3 (ipykernel)",
   "language": "python",
   "name": "python3"
  },
  "language_info": {
   "codemirror_mode": {
    "name": "ipython",
    "version": 3
   },
   "file_extension": ".py",
   "mimetype": "text/x-python",
   "name": "python",
   "nbconvert_exporter": "python",
   "pygments_lexer": "ipython3",
   "version": "3.12.3"
  }
 },
 "nbformat": 4,
 "nbformat_minor": 5
}
